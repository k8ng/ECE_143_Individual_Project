{
 "cells": [
  {
   "cell_type": "markdown",
   "metadata": {},
   "source": [
    "# ECE 143 Individual Project\n",
    "Kyle Ng, A92076679  \n",
    "Professor Unpingco  \n",
    "22 May 2018\n",
    "\n",
    "\n"
   ]
  },
  {
   "cell_type": "markdown",
   "metadata": {},
   "source": [
    "## Approach:\n",
    "* **Use random number generators to determine tower location and coverage size**\n",
    "    1. Determine x,y coordinates randomly\n",
    "    2. Determine random coverage size, bounding it between the x,y location and the top/right edges of the network grid\n",
    "<br>\n",
    "* **Use NumPy arrays to represent the network grid and tower coverage**\n",
    "    1. Initialize an array of zeros to represent network grid, zeros represent no coverage\n",
    "    2. Represent tower coverage with Numpy array of ones and zeros, ones representing coverage\n",
    "    3. Update network grid array with tower coverage array\n",
    "        * If there is overlapping area, change the corresponding area in the tower coverage array to zeros, then find the largest rectangular area to use as new tower coverage\n",
    "    4. Repeat steps 2-3 until entire network is covered  \n",
    "\n",
    "### A module named \"indiv_project_module.py\" is included to modularize the above approach.\n"
   ]
  },
  {
   "cell_type": "code",
   "execution_count": null,
   "metadata": {
    "scrolled": true
   },
   "outputs": [],
   "source": [
    "import indiv_project_module as ipm\n",
    "import matplotlib.pyplot as plt\n",
    "import matplotlib.patches as patches\n",
    "import numpy as np\n",
    "\n",
    "#Create desired region by specifying width and length\n",
    "width = input('Input desired region width: ')\n",
    "length = input('Input desired region length: ')\n",
    "\n",
    "#Show desired region\n",
    "fig,region,region_array = ipm.create_region(width,length)\n",
    "n=0 #Counter for number of towers"
   ]
  },
  {
   "cell_type": "markdown",
   "metadata": {},
   "source": [
    "### From here, network towers will be placed randomly within the created region. Each tower will have a random coverage size as well. \n",
    "\n",
    "<font color=red>The below code is supposed to be run in a loop until the entire network grid array is converted to ones. Due to limitations in the code supplied by the module, the loop is unable to complete without error. Alternatively, the cell below can be run multiple times to slowly show area that is covered. An error appears when attempting to update the existing network grid and array dimensions are exceeded</font>"
   ]
  },
  {
   "cell_type": "code",
   "execution_count": null,
   "metadata": {},
   "outputs": [],
   "source": [
    "#while not np.all(region_array):\n",
    "\n",
    "#Plot tower\n",
    "[tower_array, whole_patch, hex_color] = ipm.plot_tower(fig,region,width,length)\n",
    "#Trim tower coverage, remove overlap\n",
    "[max_area_xloc, max_area_yloc, max_area_length, max_area_width] = ipm.trim_tower(region_array,length,width,tower_array)\n",
    "#Plot trimmed tower area\n",
    "ipm.plot_trimmed(fig,region,max_area_xloc,max_area_yloc,max_area_width,max_area_length,whole_patch,hex_color)\n",
    "#Update numpy array used to represent region coverage\n",
    "region_array = ipm.update_region(region_array,max_area_xloc,max_area_yloc,max_area_width,max_area_length)\n",
    "n += 1\n",
    "\n",
    "fig\n",
    "#print 'Number of towers needed to fill region: %d' % n"
   ]
  },
  {
   "cell_type": "markdown",
   "metadata": {},
   "source": [
    "## Reason for errors:\n",
    "Unfortunately, I was unable to get the code to work flawlessly. There were issues preventing the network grid from updating when a new tower's coverage was already covered by the existing towers. The inability to completely plot one network grid prevented me from doing further analysis, such as observing the average number of towers needed to cover the whole area or a certain block of the grid, or perhaps looking into other solutions to cover the area in a more efficient manner.\n",
    "\n",
    "## Limitations of this model:\n",
    "Since the width and length of the coverage area are dependent on the location of the tower (lying only to the right and the top), the bottom-left portion of the network grid takes significantly more towers to cover than the upper-right portion.  \n",
    "A potential fix for this is to allow the coverage area to exist in any of the four quadrants around the tower. This can be done by randomly choosing which quadrant the coverage should be in, then bounding the possible coverage from there. This was my initial approach, but I soon realized that it was going to look incredibly ugly and be too time consuming given my limited programming background."
   ]
  },
  {
   "cell_type": "code",
   "execution_count": null,
   "metadata": {},
   "outputs": [],
   "source": []
  }
 ],
 "metadata": {
  "kernelspec": {
   "display_name": "Python 2",
   "language": "python",
   "name": "python2"
  },
  "language_info": {
   "codemirror_mode": {
    "name": "ipython",
    "version": 2
   },
   "file_extension": ".py",
   "mimetype": "text/x-python",
   "name": "python",
   "nbconvert_exporter": "python",
   "pygments_lexer": "ipython2",
   "version": "2.7.14"
  }
 },
 "nbformat": 4,
 "nbformat_minor": 2
}
